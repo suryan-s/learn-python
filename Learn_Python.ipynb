{
  "nbformat": 4,
  "nbformat_minor": 0,
  "metadata": {
    "colab": {
      "provenance": [],
      "authorship_tag": "ABX9TyPizve6i8bVN8LUvh0XHNtz",
      "include_colab_link": true
    },
    "kernelspec": {
      "name": "python3",
      "display_name": "Python 3"
    },
    "language_info": {
      "name": "python"
    }
  },
  "cells": [
    {
      "cell_type": "markdown",
      "metadata": {
        "id": "view-in-github",
        "colab_type": "text"
      },
      "source": [
        "<a href=\"https://colab.research.google.com/github/suryan-s/learn-python/blob/main/Learn_Python.ipynb\" target=\"_parent\"><img src=\"https://colab.research.google.com/assets/colab-badge.svg\" alt=\"Open In Colab\"/></a>"
      ]
    },
    {
      "cell_type": "code",
      "execution_count": null,
      "metadata": {
        "id": "unQgpaQVjQXN"
      },
      "outputs": [],
      "source": [
        "#intro to python development\n",
        "\n",
        "\n",
        "\n",
        "#include<stdio.h> //pre processor directives\n",
        "int main(){printf(\"Hello world\");return 0;}\n",
        "\n",
        "\n",
        "\n",
        "char\n",
        "int\n",
        "float\n",
        "double\n",
        "long\n",
        "\n"
      ]
    }
  ]
}